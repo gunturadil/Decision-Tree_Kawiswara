{
 "cells": [
  {
   "cell_type": "markdown",
   "metadata": {
    "colab_type": "text",
    "id": "wYInamOqlIEr"
   },
   "source": [
    "# 1. Import library"
   ]
  },
  {
   "cell_type": "code",
   "execution_count": 1,
   "metadata": {
    "colab": {},
    "colab_type": "code",
    "id": "mqS8ysnklIEu"
   },
   "outputs": [],
   "source": [
    "import pandas as pd\n",
    "import numpy as np"
   ]
  },
  {
   "cell_type": "markdown",
   "metadata": {
    "colab_type": "text",
    "id": "C6wVe_TSlIE3"
   },
   "source": [
    "# 2. Import data"
   ]
  },
  {
   "cell_type": "code",
   "execution_count": 2,
   "metadata": {
    "colab": {
     "base_uri": "https://localhost:8080/",
     "height": 349
    },
    "colab_type": "code",
    "id": "fgjve1KflIE4",
    "outputId": "bc3ccf54-ba5a-4e73-c7bb-135403c4eab8"
   },
   "outputs": [
    {
     "data": {
      "text/html": [
       "<div>\n",
       "<style scoped>\n",
       "    .dataframe tbody tr th:only-of-type {\n",
       "        vertical-align: middle;\n",
       "    }\n",
       "\n",
       "    .dataframe tbody tr th {\n",
       "        vertical-align: top;\n",
       "    }\n",
       "\n",
       "    .dataframe thead th {\n",
       "        text-align: right;\n",
       "    }\n",
       "</style>\n",
       "<table border=\"1\" class=\"dataframe\">\n",
       "  <thead>\n",
       "    <tr style=\"text-align: right;\">\n",
       "      <th></th>\n",
       "      <th>Refund</th>\n",
       "      <th>Martial_Status</th>\n",
       "      <th>Taxable_Income</th>\n",
       "      <th>Cheat</th>\n",
       "    </tr>\n",
       "  </thead>\n",
       "  <tbody>\n",
       "    <tr>\n",
       "      <th>0</th>\n",
       "      <td>Yes</td>\n",
       "      <td>Single</td>\n",
       "      <td>125000</td>\n",
       "      <td>No</td>\n",
       "    </tr>\n",
       "    <tr>\n",
       "      <th>1</th>\n",
       "      <td>No</td>\n",
       "      <td>Married</td>\n",
       "      <td>100000</td>\n",
       "      <td>No</td>\n",
       "    </tr>\n",
       "    <tr>\n",
       "      <th>2</th>\n",
       "      <td>No</td>\n",
       "      <td>Single</td>\n",
       "      <td>70000</td>\n",
       "      <td>No</td>\n",
       "    </tr>\n",
       "    <tr>\n",
       "      <th>3</th>\n",
       "      <td>Yes</td>\n",
       "      <td>Married</td>\n",
       "      <td>120000</td>\n",
       "      <td>No</td>\n",
       "    </tr>\n",
       "    <tr>\n",
       "      <th>4</th>\n",
       "      <td>No</td>\n",
       "      <td>Divorced</td>\n",
       "      <td>95000</td>\n",
       "      <td>Yes</td>\n",
       "    </tr>\n",
       "    <tr>\n",
       "      <th>5</th>\n",
       "      <td>No</td>\n",
       "      <td>Married</td>\n",
       "      <td>60000</td>\n",
       "      <td>No</td>\n",
       "    </tr>\n",
       "    <tr>\n",
       "      <th>6</th>\n",
       "      <td>Yes</td>\n",
       "      <td>Divorced</td>\n",
       "      <td>220000</td>\n",
       "      <td>No</td>\n",
       "    </tr>\n",
       "    <tr>\n",
       "      <th>7</th>\n",
       "      <td>No</td>\n",
       "      <td>Single</td>\n",
       "      <td>85000</td>\n",
       "      <td>Yes</td>\n",
       "    </tr>\n",
       "    <tr>\n",
       "      <th>8</th>\n",
       "      <td>No</td>\n",
       "      <td>Married</td>\n",
       "      <td>75000</td>\n",
       "      <td>No</td>\n",
       "    </tr>\n",
       "    <tr>\n",
       "      <th>9</th>\n",
       "      <td>No</td>\n",
       "      <td>Single</td>\n",
       "      <td>90000</td>\n",
       "      <td>Yes</td>\n",
       "    </tr>\n",
       "  </tbody>\n",
       "</table>\n",
       "</div>"
      ],
      "text/plain": [
       "  Refund Martial_Status  Taxable_Income Cheat\n",
       "0    Yes         Single          125000    No\n",
       "1     No        Married          100000    No\n",
       "2     No         Single           70000    No\n",
       "3    Yes        Married          120000    No\n",
       "4     No       Divorced           95000   Yes\n",
       "5     No        Married           60000    No\n",
       "6    Yes       Divorced          220000    No\n",
       "7     No         Single           85000   Yes\n",
       "8     No        Married           75000    No\n",
       "9     No         Single           90000   Yes"
      ]
     },
     "execution_count": 2,
     "metadata": {},
     "output_type": "execute_result"
    }
   ],
   "source": [
    "train_data = pd.DataFrame({'Refund': ['Yes', 'No', 'No', 'Yes', 'No', 'No', 'Yes', 'No', 'No', 'No'], \n",
    "                     'Martial_Status': ['Single', 'Married', 'Single', 'Married', 'Divorced', 'Married', 'Divorced', 'Single', 'Married', 'Single'], \n",
    "                     'Taxable_Income': [125000, 100000, 70000, 120000, 95000, 60000, 220000, 85000, 75000, 90000], \n",
    "                     'Cheat': ['No', 'No', 'No', 'No', 'Yes', 'No', 'No', 'Yes', 'No', 'Yes']})\n",
    "train_data"
   ]
  },
  {
   "cell_type": "code",
   "execution_count": 3,
   "metadata": {},
   "outputs": [
    {
     "data": {
      "text/html": [
       "<div>\n",
       "<style scoped>\n",
       "    .dataframe tbody tr th:only-of-type {\n",
       "        vertical-align: middle;\n",
       "    }\n",
       "\n",
       "    .dataframe tbody tr th {\n",
       "        vertical-align: top;\n",
       "    }\n",
       "\n",
       "    .dataframe thead th {\n",
       "        text-align: right;\n",
       "    }\n",
       "</style>\n",
       "<table border=\"1\" class=\"dataframe\">\n",
       "  <thead>\n",
       "    <tr style=\"text-align: right;\">\n",
       "      <th></th>\n",
       "      <th>Refund</th>\n",
       "      <th>Martial_Status</th>\n",
       "      <th>Taxable_Income</th>\n",
       "    </tr>\n",
       "  </thead>\n",
       "  <tbody>\n",
       "    <tr>\n",
       "      <th>0</th>\n",
       "      <td>No</td>\n",
       "      <td>Single</td>\n",
       "      <td>75000</td>\n",
       "    </tr>\n",
       "    <tr>\n",
       "      <th>1</th>\n",
       "      <td>Yes</td>\n",
       "      <td>Married</td>\n",
       "      <td>50000</td>\n",
       "    </tr>\n",
       "    <tr>\n",
       "      <th>2</th>\n",
       "      <td>No</td>\n",
       "      <td>Married</td>\n",
       "      <td>150000</td>\n",
       "    </tr>\n",
       "    <tr>\n",
       "      <th>3</th>\n",
       "      <td>Yes</td>\n",
       "      <td>Divorced</td>\n",
       "      <td>90000</td>\n",
       "    </tr>\n",
       "    <tr>\n",
       "      <th>4</th>\n",
       "      <td>No</td>\n",
       "      <td>Single</td>\n",
       "      <td>40000</td>\n",
       "    </tr>\n",
       "    <tr>\n",
       "      <th>5</th>\n",
       "      <td>No</td>\n",
       "      <td>Married</td>\n",
       "      <td>80000</td>\n",
       "    </tr>\n",
       "  </tbody>\n",
       "</table>\n",
       "</div>"
      ],
      "text/plain": [
       "  Refund Martial_Status  Taxable_Income\n",
       "0     No         Single           75000\n",
       "1    Yes        Married           50000\n",
       "2     No        Married          150000\n",
       "3    Yes       Divorced           90000\n",
       "4     No         Single           40000\n",
       "5     No        Married           80000"
      ]
     },
     "execution_count": 3,
     "metadata": {},
     "output_type": "execute_result"
    }
   ],
   "source": [
    "test_data = pd.DataFrame({'Refund': ['No', 'Yes', 'No', 'Yes', 'No', 'No'], \n",
    "                          'Martial_Status': ['Single', 'Married', 'Married', 'Divorced', 'Single', 'Married'], \n",
    "                          'Taxable_Income': [75000, 50000, 150000, 90000, 40000, 80000]})\n",
    "test_data"
   ]
  },
  {
   "cell_type": "markdown",
   "metadata": {
    "colab_type": "text",
    "id": "ghBV0qvBlIE_"
   },
   "source": [
    "# 3. Training"
   ]
  },
  {
   "cell_type": "code",
   "execution_count": 14,
   "metadata": {
    "colab": {},
    "colab_type": "code",
    "id": "5DjZaTz63uWI"
   },
   "outputs": [],
   "source": [
    "def preprocessing(data):\n",
    "    encode_boolean = lambda x: 0 if x == 'No' else 1\n",
    "    encode_martial = lambda x: 0 if x == 'Single' else 1 if x == 'Married' else 2\n",
    "    data.Refund = data.Refund.map(encode_boolean)\n",
    "    data.Martial_Status = data.Martial_Status.map(encode_martial)\n",
    "    if 'Cheat' in data.columns:\n",
    "        data.Cheat = data.Cheat.map(encode_boolean)\n",
    "    return data\n"
   ]
  },
  {
   "cell_type": "code",
   "execution_count": 16,
   "metadata": {},
   "outputs": [],
   "source": [
    "def probability(data, column, x):\n",
    "    count_x = len(data[(data[column] == x) & (data.Cheat == 1)])\n",
    "    count_y = len(data[data[column] == x][column])\n",
    "    try:\n",
    "        prob_1 = count_x / count_y\n",
    "    except:\n",
    "        prob_1 = 0\n",
    "    prob_0 = 1 - prob_1\n",
    "    return prob_1, prob_0\n"
   ]
  },
  {
   "cell_type": "code",
   "execution_count": null,
   "metadata": {},
   "outputs": [],
   "source": []
  },
  {
   "cell_type": "code",
   "execution_count": null,
   "metadata": {},
   "outputs": [],
   "source": [
    "def print_rule(rule):\n",
    "    len_rule = len(rule) - 1\n",
    "    print('if {} {} {}:'.format(rule[0][0], rule[0][3], rule[0][1]))\n",
    "    print('\\tCheat == {}'.format(rule[0][2]))\n",
    "    for i in range(1,  len_rule):\n",
    "        print('else if {} {} {}:'.format(rule[i][0], rule[i][3], rule[i][1]))\n",
    "        print('\\tCheat == {}'.format(rule[i][2]))\n",
    "    print('else: ')\n",
    "    print('\\tCheat == {}'.format(rule[len_rule][2]))"
   ]
  },
  {
   "cell_type": "code",
   "execution_count": null,
   "metadata": {},
   "outputs": [],
   "source": [
    "def condition(data, rule):\n",
    "    if rule[3] == '==':\n",
    "        return data == rule[1]\n",
    "    elif rule[3] == '<':\n",
    "        return data < rule[1]"
   ]
  },
  {
   "cell_type": "code",
   "execution_count": null,
   "metadata": {},
   "outputs": [],
   "source": [
    "def create_model(data):\n",
    "    rule = {}\n",
    "    category = data.drop('Cheat', axis=1).select_dtypes(exclude=np.number).columns.tolist()\n",
    "    data = preprocessing(data)\n",
    "    counter = 0 \n",
    "    condition = False\n",
    "    while(condition == False):\n",
    "        column, value, target, equation = None, None, None, None\n",
    "        for feature in data.drop('Cheat', axis=1).columns:\n",
    "            if feature in category:\n",
    "                for i in data[feature].unique():\n",
    "                    prob_0, prob_1 = probability(data, feature, i)\n",
    "                    if prob_0 == 1:\n",
    "                        column = feature\n",
    "                        value = i\n",
    "                        target = 0\n",
    "                        equation = '=='\n",
    "                        break\n",
    "                    if prob_1 == 1:\n",
    "                        column = feature\n",
    "                        value = i\n",
    "                        target = 1\n",
    "                        equation = '=='\n",
    "                        break\n",
    "                if column == feature:\n",
    "                    rule[counter] = str(column), int(value), target, equation\n",
    "                    data = data[data[rule[counter][0]] != rule[counter][1]]\n",
    "                    counter += 1\n",
    "                    column, value, target, equation = None, None, None, None\n",
    "                    break\n",
    "            else:\n",
    "                column = feature\n",
    "                value = data[data.Cheat == 1][feature].min()\n",
    "                target = 0 #1\n",
    "                equation = '<'\n",
    "                rule[counter] = str(column), int(value), target, equation\n",
    "                data = data[data[rule[counter][0]] < rule[counter][1]]\n",
    "                counter += 1\n",
    "                column, value, target, equation = None, None, None, None\n",
    "                break\n",
    "        if len(data) == 1:\n",
    "            target = 1#data.Cheat.values[0]\n",
    "            rule[counter] = None, None, target, None\n",
    "            column, value, target, equation = None, None, None, None\n",
    "            condition = True\n",
    "    return rule"
   ]
  },
  {
   "cell_type": "code",
   "execution_count": null,
   "metadata": {},
   "outputs": [],
   "source": [
    "def predict(data, rule):\n",
    "    for x in range(len(data)):\n",
    "        for i in range(len(rule)):\n",
    "            if data.index[x] == rule[i][0]:\n",
    "                if condition(data[x], rule[i]):\n",
    "                    return rule[i][2]"
   ]
  },
  {
   "cell_type": "code",
   "execution_count": null,
   "metadata": {},
   "outputs": [],
   "source": [
    "rule = create_model(train_data)\n",
    "print_rule(rule)"
   ]
  },
  {
   "cell_type": "markdown",
   "metadata": {},
   "source": [
    "# 4. Testing"
   ]
  },
  {
   "cell_type": "code",
   "execution_count": null,
   "metadata": {},
   "outputs": [],
   "source": [
    "test_data = preprocessing(test_data)\n",
    "test_data['Prediction'] =[predict(test_data.loc[i], rule) for i in range(len(test_data))]\n",
    "test_data.head()"
   ]
  }
 ],
 "metadata": {
  "colab": {
   "name": "Tugas1.ipynb",
   "provenance": [],
   "version": "0.3.2"
  },
  "kernelspec": {
   "display_name": "Python 3",
   "language": "python",
   "name": "python3"
  },
  "language_info": {
   "codemirror_mode": {
    "name": "ipython",
    "version": 3
   },
   "file_extension": ".py",
   "mimetype": "text/x-python",
   "name": "python",
   "nbconvert_exporter": "python",
   "pygments_lexer": "ipython3",
   "version": "3.6.5"
  }
 },
 "nbformat": 4,
 "nbformat_minor": 2
}
